{
  "nbformat": 4,
  "nbformat_minor": 0,
  "metadata": {
    "colab": {
      "name": "Classificacao_multilabel_ML.ipynb",
      "provenance": [],
      "collapsed_sections": []
    },
    "kernelspec": {
      "name": "python3",
      "display_name": "Python 3"
    },
    "language_info": {
      "name": "python"
    }
  },
  "cells": [
    {
      "cell_type": "markdown",
      "metadata": {
        "id": "iU0I77hH6Zsp"
      },
      "source": [
        "\n",
        "\n",
        "> **Algoritmo que analisa o banco de dados do stackoverflow e analisa a qual tag pertence utilizando os algoritmos de classificação: Relevância Binária, Classificação em Cadeia e MLkNN**\n",
        "\n"
      ]
    },
    {
      "cell_type": "markdown",
      "metadata": {
        "id": "Nsa53fwx6uZP"
      },
      "source": [
        "# **Setup inicial do banco de dados**"
      ]
    },
    {
      "cell_type": "code",
      "metadata": {
        "id": "yAEAj-tBh08q"
      },
      "source": [
        "#importando biblioteca\n",
        "import pandas as pd\n",
        "\n",
        "#leitura do dataset\n",
        "perguntas = pd.read_csv(\"stackoverflow_perguntas.csv\")\n",
        "#perguntas.head(10)"
      ],
      "execution_count": null,
      "outputs": []
    },
    {
      "cell_type": "code",
      "metadata": {
        "colab": {
          "base_uri": "https://localhost:8080/"
        },
        "id": "3oU3ejSN0amc",
        "outputId": "095cc878-8ebb-4a7d-8ac6-52b7ce0055ad"
      },
      "source": [
        "#analisando quais tags temos no nosso base de dados\n",
        "print(f'>> Temos nesse dataset {len(perguntas.Tags.unique())} tags.')\n",
        "\n",
        "print('\\n>> As tags presentes nesse dataset são:\\n')\n",
        "perguntas.Tags.unique()"
      ],
      "execution_count": null,
      "outputs": [
        {
          "output_type": "stream",
          "name": "stdout",
          "text": [
            ">> Temos nesse dataset 37 tags.\n",
            "\n",
            ">> As tags presentes nesse dataset são:\n",
            "\n"
          ]
        },
        {
          "output_type": "execute_result",
          "data": {
            "text/plain": [
              "array(['node.js', 'jquery', 'html', 'html angular ', 'html ', 'angular',\n",
              "       'angular ', 'jquery html  ', 'jquery ', 'jquery html',\n",
              "       'jquery html ', 'html angular', 'angular node.js ', 'html  ',\n",
              "       'jquery html angular', 'node.js ', 'html jquery', 'html jquery ',\n",
              "       'jquery angular  ', 'html node.js', 'jquery  ', 'angular node.js',\n",
              "       'jquery angular', 'html node.js ', 'jquery node.js ', 'angular  ',\n",
              "       'jquery angular ', 'jquery html angular ', 'node.js html ',\n",
              "       ' node.js', 'node.js html', 'html angular  ', 'jquery node.js',\n",
              "       'angular html', 'html angular  node.js', 'jquery html node.js',\n",
              "       'html angular node.js'], dtype=object)"
            ]
          },
          "metadata": {},
          "execution_count": 28
        }
      ]
    },
    {
      "cell_type": "code",
      "metadata": {
        "colab": {
          "base_uri": "https://localhost:8080/"
        },
        "id": "4HXsPuoX0gWa",
        "outputId": "81b8595c-3b1b-4c95-bbd3-abc8e94d3bf9"
      },
      "source": [
        "#descobrindo quais as labels que temos dentro da coluna Tag\n",
        "lista_de_tags = list()\n",
        "\n",
        "#exemplo que corta os elementos do vetor\n",
        "#\"node.js html\".split()\n",
        "for tags in perguntas.Tags.unique():\n",
        "  for tag in tags.split():\n",
        "    if tag not in lista_de_tags:\n",
        "      lista_de_tags.append(tag)\n",
        "\n",
        "print(\">> Os labels presentes dentro das tags são:\\n\")\n",
        "print(lista_de_tags)"
      ],
      "execution_count": null,
      "outputs": [
        {
          "output_type": "stream",
          "name": "stdout",
          "text": [
            ">> Os labels presentes dentro das tags são:\n",
            "\n",
            "['node.js', 'jquery', 'html', 'angular']\n"
          ]
        }
      ]
    },
    {
      "cell_type": "code",
      "metadata": {
        "id": "XXK-h1kS55ly"
      },
      "source": [
        "#lendo se a nossa lista possui o label de node.hs\n",
        "node_js = list()\n",
        "\n",
        "for linha_tag in perguntas.Tags:\n",
        "  if \"node_js\" in linha_tag:\n",
        "    node_js.append(1)\n",
        "  else:\n",
        "    node_js.append(0)\n",
        "\n",
        "#adicionando essa lista no dataset\n",
        "#perguntas[\"node_js\"] = node_js\n",
        "\n",
        "#print('>> Após análise, a inserção da coluna que mapeia a presença de node.js em casa Tag:\\n')\n",
        "#perguntas.head()"
      ],
      "execution_count": null,
      "outputs": []
    },
    {
      "cell_type": "code",
      "metadata": {
        "colab": {
          "base_uri": "https://localhost:8080/",
          "height": 205
        },
        "id": "a7XWHYXA58jp",
        "outputId": "37aa5be0-e102-473b-b13e-600c3399e8f6"
      },
      "source": [
        "#funcao que mapeia a presença de cada label na lista de tags\n",
        "#em seguida, cria uma coluna binária mapeando a existência\n",
        "\n",
        "def nova_coluna(lista_de_tags, dataframe, nome_tags):\n",
        "  for tag in lista_de_tags:\n",
        "    coluna = list()\n",
        "    for linha_tag in dataframe[nome_tags]:\n",
        "      if tag in linha_tag:\n",
        "        coluna.append(1)\n",
        "      else:\n",
        "        coluna.append(0)\n",
        "    #adicionando ao dataframe\n",
        "    dataframe[tag] = coluna\n",
        "\n",
        "#inserindo as novas colunas no dataframe\n",
        "nova_coluna(lista_de_tags, perguntas, \"Tags\")\n",
        "\n",
        "#imprimindo para visualizar\n",
        "perguntas.head()"
      ],
      "execution_count": null,
      "outputs": [
        {
          "output_type": "execute_result",
          "data": {
            "text/html": [
              "<div>\n",
              "<style scoped>\n",
              "    .dataframe tbody tr th:only-of-type {\n",
              "        vertical-align: middle;\n",
              "    }\n",
              "\n",
              "    .dataframe tbody tr th {\n",
              "        vertical-align: top;\n",
              "    }\n",
              "\n",
              "    .dataframe thead th {\n",
              "        text-align: right;\n",
              "    }\n",
              "</style>\n",
              "<table border=\"1\" class=\"dataframe\">\n",
              "  <thead>\n",
              "    <tr style=\"text-align: right;\">\n",
              "      <th></th>\n",
              "      <th>Perguntas</th>\n",
              "      <th>Tags</th>\n",
              "      <th>node.js</th>\n",
              "      <th>jquery</th>\n",
              "      <th>html</th>\n",
              "      <th>angular</th>\n",
              "    </tr>\n",
              "  </thead>\n",
              "  <tbody>\n",
              "    <tr>\n",
              "      <th>0</th>\n",
              "      <td>Possuo um projeto Node.js porém preciso criar ...</td>\n",
              "      <td>node.js</td>\n",
              "      <td>1</td>\n",
              "      <td>0</td>\n",
              "      <td>0</td>\n",
              "      <td>0</td>\n",
              "    </tr>\n",
              "    <tr>\n",
              "      <th>1</th>\n",
              "      <td>Gostaria de fazer testes unitários no Node.js,...</td>\n",
              "      <td>node.js</td>\n",
              "      <td>1</td>\n",
              "      <td>0</td>\n",
              "      <td>0</td>\n",
              "      <td>0</td>\n",
              "    </tr>\n",
              "    <tr>\n",
              "      <th>2</th>\n",
              "      <td>Como inverter a ordem com que o jQuery itera u...</td>\n",
              "      <td>jquery</td>\n",
              "      <td>0</td>\n",
              "      <td>1</td>\n",
              "      <td>0</td>\n",
              "      <td>0</td>\n",
              "    </tr>\n",
              "    <tr>\n",
              "      <th>3</th>\n",
              "      <td>Eu tenho uma página onde pretendo utilizar um ...</td>\n",
              "      <td>html</td>\n",
              "      <td>0</td>\n",
              "      <td>0</td>\n",
              "      <td>1</td>\n",
              "      <td>0</td>\n",
              "    </tr>\n",
              "    <tr>\n",
              "      <th>4</th>\n",
              "      <td>Como exibir os dados retornados do FireStore e...</td>\n",
              "      <td>html angular</td>\n",
              "      <td>0</td>\n",
              "      <td>0</td>\n",
              "      <td>1</td>\n",
              "      <td>1</td>\n",
              "    </tr>\n",
              "  </tbody>\n",
              "</table>\n",
              "</div>"
            ],
            "text/plain": [
              "                                           Perguntas  ... angular\n",
              "0  Possuo um projeto Node.js porém preciso criar ...  ...       0\n",
              "1  Gostaria de fazer testes unitários no Node.js,...  ...       0\n",
              "2  Como inverter a ordem com que o jQuery itera u...  ...       0\n",
              "3  Eu tenho uma página onde pretendo utilizar um ...  ...       0\n",
              "4  Como exibir os dados retornados do FireStore e...  ...       1\n",
              "\n",
              "[5 rows x 6 columns]"
            ]
          },
          "metadata": {},
          "execution_count": 31
        }
      ]
    },
    {
      "cell_type": "code",
      "metadata": {
        "colab": {
          "base_uri": "https://localhost:8080/",
          "height": 362
        },
        "id": "4uPiy3C8VJik",
        "outputId": "ffb9832d-718f-4dde-9a81-55d8d9ed57bf"
      },
      "source": [
        "#para avançar é imprecindível ter todas as colunas dummies presentes em uma única coluna\n",
        "#sendo assim, vamos juntar as colunas de Node.js, jquery, html e angular\n",
        "\n",
        "#aprendendo a utilizar o zip para juntas colunas no dataframe\n",
        "lista_1 = [1,2]\n",
        "lista_2 = [5,4]\n",
        "out = zip(lista_1, lista_2) \n",
        "#print(list(out))\n",
        "\n",
        "#aplicando zip ao dataframe\n",
        "lista_zip_tags = list(zip(perguntas[lista_de_tags[0]], \n",
        "                      perguntas[lista_de_tags[1]],\n",
        "                      perguntas[lista_de_tags[2]],\n",
        "                      perguntas[lista_de_tags[3]])\n",
        "                      )\n",
        "\n",
        "#adicionando essa lista no datagrame\n",
        "perguntas['todas_tags'] = lista_zip_tags\n",
        "\n",
        "#visualizando as modificações\n",
        "perguntas.sample(10)"
      ],
      "execution_count": null,
      "outputs": [
        {
          "output_type": "execute_result",
          "data": {
            "text/html": [
              "<div>\n",
              "<style scoped>\n",
              "    .dataframe tbody tr th:only-of-type {\n",
              "        vertical-align: middle;\n",
              "    }\n",
              "\n",
              "    .dataframe tbody tr th {\n",
              "        vertical-align: top;\n",
              "    }\n",
              "\n",
              "    .dataframe thead th {\n",
              "        text-align: right;\n",
              "    }\n",
              "</style>\n",
              "<table border=\"1\" class=\"dataframe\">\n",
              "  <thead>\n",
              "    <tr style=\"text-align: right;\">\n",
              "      <th></th>\n",
              "      <th>Perguntas</th>\n",
              "      <th>Tags</th>\n",
              "      <th>node.js</th>\n",
              "      <th>jquery</th>\n",
              "      <th>html</th>\n",
              "      <th>angular</th>\n",
              "      <th>todas_tags</th>\n",
              "    </tr>\n",
              "  </thead>\n",
              "  <tbody>\n",
              "    <tr>\n",
              "      <th>3822</th>\n",
              "      <td>Tem alguma maneira de enviar o blob pro servid...</td>\n",
              "      <td>jquery</td>\n",
              "      <td>0</td>\n",
              "      <td>1</td>\n",
              "      <td>0</td>\n",
              "      <td>0</td>\n",
              "      <td>(0, 1, 0, 0)</td>\n",
              "    </tr>\n",
              "    <tr>\n",
              "      <th>3084</th>\n",
              "      <td>Realizo uma consulta com ajax em uma pagina ph...</td>\n",
              "      <td>jquery</td>\n",
              "      <td>0</td>\n",
              "      <td>1</td>\n",
              "      <td>0</td>\n",
              "      <td>0</td>\n",
              "      <td>(0, 1, 0, 0)</td>\n",
              "    </tr>\n",
              "    <tr>\n",
              "      <th>3325</th>\n",
              "      <td>A função abaixo não me retorna o esperado.  Eu...</td>\n",
              "      <td>jquery</td>\n",
              "      <td>0</td>\n",
              "      <td>1</td>\n",
              "      <td>0</td>\n",
              "      <td>0</td>\n",
              "      <td>(0, 1, 0, 0)</td>\n",
              "    </tr>\n",
              "    <tr>\n",
              "      <th>3897</th>\n",
              "      <td>Bom dia! Não estou conseguindo deslizar para o...</td>\n",
              "      <td>html</td>\n",
              "      <td>0</td>\n",
              "      <td>0</td>\n",
              "      <td>1</td>\n",
              "      <td>0</td>\n",
              "      <td>(0, 0, 1, 0)</td>\n",
              "    </tr>\n",
              "    <tr>\n",
              "      <th>110</th>\n",
              "      <td>Estou montando um webapp com o framework JQuer...</td>\n",
              "      <td>jquery</td>\n",
              "      <td>0</td>\n",
              "      <td>1</td>\n",
              "      <td>0</td>\n",
              "      <td>0</td>\n",
              "      <td>(0, 1, 0, 0)</td>\n",
              "    </tr>\n",
              "    <tr>\n",
              "      <th>380</th>\n",
              "      <td>Tenho o seguinte código HTML:  CODE   Eu preci...</td>\n",
              "      <td>html</td>\n",
              "      <td>0</td>\n",
              "      <td>0</td>\n",
              "      <td>1</td>\n",
              "      <td>0</td>\n",
              "      <td>(0, 0, 1, 0)</td>\n",
              "    </tr>\n",
              "    <tr>\n",
              "      <th>3671</th>\n",
              "      <td>Criei um script básico para exibir/ocultar um ...</td>\n",
              "      <td>jquery</td>\n",
              "      <td>0</td>\n",
              "      <td>1</td>\n",
              "      <td>0</td>\n",
              "      <td>0</td>\n",
              "      <td>(0, 1, 0, 0)</td>\n",
              "    </tr>\n",
              "    <tr>\n",
              "      <th>1744</th>\n",
              "      <td>Como centralizar a div CODE  que é criada de f...</td>\n",
              "      <td>jquery</td>\n",
              "      <td>0</td>\n",
              "      <td>1</td>\n",
              "      <td>0</td>\n",
              "      <td>0</td>\n",
              "      <td>(0, 1, 0, 0)</td>\n",
              "    </tr>\n",
              "    <tr>\n",
              "      <th>3864</th>\n",
              "      <td>Uma dúvida, porquê isso trabalha:  CODE   e is...</td>\n",
              "      <td>jquery</td>\n",
              "      <td>0</td>\n",
              "      <td>1</td>\n",
              "      <td>0</td>\n",
              "      <td>0</td>\n",
              "      <td>(0, 1, 0, 0)</td>\n",
              "    </tr>\n",
              "    <tr>\n",
              "      <th>5092</th>\n",
              "      <td>Bom dia Galera.  Estou consumindo uma api exte...</td>\n",
              "      <td>node.js</td>\n",
              "      <td>1</td>\n",
              "      <td>0</td>\n",
              "      <td>0</td>\n",
              "      <td>0</td>\n",
              "      <td>(1, 0, 0, 0)</td>\n",
              "    </tr>\n",
              "  </tbody>\n",
              "</table>\n",
              "</div>"
            ],
            "text/plain": [
              "                                              Perguntas  ...    todas_tags\n",
              "3822  Tem alguma maneira de enviar o blob pro servid...  ...  (0, 1, 0, 0)\n",
              "3084  Realizo uma consulta com ajax em uma pagina ph...  ...  (0, 1, 0, 0)\n",
              "3325  A função abaixo não me retorna o esperado.  Eu...  ...  (0, 1, 0, 0)\n",
              "3897  Bom dia! Não estou conseguindo deslizar para o...  ...  (0, 0, 1, 0)\n",
              "110   Estou montando um webapp com o framework JQuer...  ...  (0, 1, 0, 0)\n",
              "380   Tenho o seguinte código HTML:  CODE   Eu preci...  ...  (0, 0, 1, 0)\n",
              "3671  Criei um script básico para exibir/ocultar um ...  ...  (0, 1, 0, 0)\n",
              "1744  Como centralizar a div CODE  que é criada de f...  ...  (0, 1, 0, 0)\n",
              "3864  Uma dúvida, porquê isso trabalha:  CODE   e is...  ...  (0, 1, 0, 0)\n",
              "5092  Bom dia Galera.  Estou consumindo uma api exte...  ...  (1, 0, 0, 0)\n",
              "\n",
              "[10 rows x 7 columns]"
            ]
          },
          "metadata": {},
          "execution_count": 42
        }
      ]
    },
    {
      "cell_type": "markdown",
      "metadata": {
        "id": "xeGkZkZ08XDi"
      },
      "source": [
        "\n",
        "\n",
        "> **Dividindo nosso dataset em treino e teste**\n",
        "\n"
      ]
    },
    {
      "cell_type": "code",
      "metadata": {
        "id": "HyF5JHVjTbql"
      },
      "source": [
        "#criando os conjuntos de teste e treino\n",
        "\n",
        "#biblioteca utilizada\n",
        "from sklearn.model_selection import train_test_split\n",
        "\n",
        "#X_train, X_test, Y_train, Y_test\n",
        "perguntas_treino, perguntas_test, tags_treino, tags_test = train_test_split(perguntas.Perguntas,\n",
        "                                                                            perguntas.todas_tags,\n",
        "                                                                            test_size=0.2,\n",
        "                                                                            random_state=123)\n",
        "#test_size = % do tamanho do dataset que será utilizada para teste\n",
        "#random_state = é apenas um valor para garantirmos sempre a mesma subdivisão"
      ],
      "execution_count": null,
      "outputs": []
    },
    {
      "cell_type": "markdown",
      "metadata": {
        "id": "QV586iO483DE"
      },
      "source": [
        "\n",
        "> **Conversão de linguagem humana para linguagem de máquina**\n",
        "\n"
      ]
    },
    {
      "cell_type": "markdown",
      "metadata": {
        "id": "5KnFBcwbZnYu"
      },
      "source": [
        "*Como o computador não entende o que significa a palavra \"não\" ou qualquer outra do nosso dataset, vamos utilizar a técnica TF-IDF. Ela atribui uma relevância para cada palavra nas perguntas.*"
      ]
    },
    {
      "cell_type": "code",
      "metadata": {
        "id": "1R0lo6-FY4ga"
      },
      "source": [
        "#biblioteca utilizada para transformar as perguntas\n",
        "from sklearn.feature_extraction.text import TfidfVectorizer\n",
        "\n",
        "#realizando a operação de vetorizar\n",
        "vetorizar = TfidfVectorizer(max_features=5000,max_df=0.85) #vetor com o tamanho de 5000 e eliminando palavras que aparecem acima de 85% em cada pergunta"
      ],
      "execution_count": null,
      "outputs": []
    },
    {
      "cell_type": "code",
      "metadata": {
        "colab": {
          "base_uri": "https://localhost:8080/"
        },
        "id": "S6uPWH5kgWlD",
        "outputId": "06858b43-dbcc-41d1-e927-f3cf2c9be75e"
      },
      "source": [
        "#aplicando nosso algoritmo para realizar a transformação\n",
        "vetorizar.fit(perguntas.Perguntas) \n",
        "\n",
        "#realizando a conversao das perguntas de treino e teste para linguagem de máquina\n",
        "perguntas_treino_tfidf = vetorizar.transform(perguntas_treino)\n",
        "perguntas_test_tfidf = vetorizar.transform(perguntas_test)\n",
        "\n",
        "#dimensoes dos nossos vetores\n",
        "print('>> As dimensões das perguntas de treino são:\\n')\n",
        "print(perguntas_treino_tfidf.shape)\n",
        "print('\\n>> As dimensões das perguntas de teste são:\\n')\n",
        "print(perguntas_test_tfidf.shape)"
      ],
      "execution_count": null,
      "outputs": [
        {
          "output_type": "stream",
          "name": "stdout",
          "text": [
            ">> As dimensões das perguntas de treino são:\n",
            "\n",
            "(4326, 5000)\n",
            "\n",
            ">> As dimensões das perguntas de teste são:\n",
            "\n",
            "(1082, 5000)\n"
          ]
        }
      ]
    },
    {
      "cell_type": "markdown",
      "metadata": {
        "id": "hKKro7eE9n2N"
      },
      "source": [
        "# **Algoritmo de classificação: Relevância Binária**"
      ]
    },
    {
      "cell_type": "markdown",
      "metadata": {
        "id": "y57_DDy-BmjQ"
      },
      "source": [
        "*Esse algoritmo binário cria um modelo para cada categoria e classifica de acordo com 0(não presença) e 1(presença)*"
      ]
    },
    {
      "cell_type": "markdown",
      "metadata": {
        "id": "wpe8vEkoDX1m"
      },
      "source": [
        "\n",
        "\n",
        "> Métrica da qualidade do algoritmo: Extra-match (score)\n",
        "\n"
      ]
    },
    {
      "cell_type": "code",
      "metadata": {
        "id": "klqVdvQmgr6a",
        "colab": {
          "base_uri": "https://localhost:8080/"
        },
        "outputId": "85cdefc2-c2f6-4835-9cad-5d3e7c47a636"
      },
      "source": [
        "#vamos utilizar um modelo de classificação multilabel \n",
        "#chamado de relevância binária\n",
        "\n",
        "from sklearn.multiclass import OneVsRestClassifier\n",
        "from sklearn.linear_model import LogisticRegression\n",
        "import numpy as np\n",
        "\n",
        "#criando um classificador binário\n",
        "regressao_logistica = LogisticRegression()\n",
        "classificador_onevsrest = OneVsRestClassifier(regressao_logistica)\n",
        "\n",
        "#antes de treinar o modelo vamos ter que converter a ultima coluna em um array ou matrix binária\n",
        "tags_treino_array = np.asarray(list(tags_treino)) #temos que usar o list() pois se não teremos uma lista de tuplas\n",
        "tags_test_array = np.asarray(list(tags_test))\n",
        "#print(type(tags_test_array))\n",
        "#print(tags_treino_array)\n",
        "\n",
        "#treinando o nosso modelo com os dados de treino\n",
        "classificador_onevsrest.fit(perguntas_treino_tfidf, tags_treino_array)\n",
        "\n",
        "#agora predizendo o modelo através dos dados de teste, o score trás a acurácia\n",
        "resultado_onevsrest = classificador_onevsrest.score(perguntas_test_tfidf, tags_test_array)\n",
        "print('Resultado da acurácia {0: .2f}%'.format(resultado_onevsrest*100))\n",
        "\n",
        "#vale lembrar que para classificação multilabel, a acurácia não é uma boa métrica\n",
        "#para medir a qualidade do nosso algoritmo. Isso acontece pois ela busca o exact match."
      ],
      "execution_count": null,
      "outputs": [
        {
          "output_type": "stream",
          "name": "stdout",
          "text": [
            "Resultado da acurácia  41.68%\n"
          ]
        }
      ]
    },
    {
      "cell_type": "markdown",
      "metadata": {
        "id": "qIRxaLeuDqJu"
      },
      "source": [
        "\n",
        "\n",
        "> Métrica de qualidade: hamming loss\n",
        "\n"
      ]
    },
    {
      "cell_type": "code",
      "metadata": {
        "id": "Z6xtmGHAieRC",
        "colab": {
          "base_uri": "https://localhost:8080/"
        },
        "outputId": "c551a99f-5ba6-4a24-d60f-7a2024365ae3"
      },
      "source": [
        "from sklearn.metrics import hamming_loss\n",
        "\n",
        "#predizendo nossas tags através das perguntas\n",
        "previsao_onevsrest = classificador_onevsrest.predict(perguntas_test_tfidf)\n",
        "\n",
        "#utilizando as tags de test e comparando com o valor previsto pelo classificador\n",
        "hamming_loss = hamming_loss(tags_test_array, previsao_onevsrest)\n",
        "\n",
        "#imprimindo os resultados\n",
        "#vale lembrar que quanto mais próximo de zero, melhor é o nosso modelo\n",
        "print('hamming_loss {0: .2f}'.format(hamming_loss))"
      ],
      "execution_count": null,
      "outputs": [
        {
          "output_type": "stream",
          "name": "stdout",
          "text": [
            "hamming_loss  0.19\n"
          ]
        }
      ]
    },
    {
      "cell_type": "markdown",
      "metadata": {
        "id": "nRSCZt5ODxWk"
      },
      "source": [
        "*Agora vamos analisar para ver se temos alguma correlação entre as variáveis.*"
      ]
    },
    {
      "cell_type": "code",
      "metadata": {
        "colab": {
          "base_uri": "https://localhost:8080/",
          "height": 175
        },
        "id": "2pR8toolurgg",
        "outputId": "54aba283-ee17-49ab-b76d-f059a5e8ad9a"
      },
      "source": [
        "#analisando a correlação entre as variáveis\n",
        "\n",
        "perguntas.corr()"
      ],
      "execution_count": null,
      "outputs": [
        {
          "output_type": "execute_result",
          "data": {
            "text/html": [
              "<div>\n",
              "<style scoped>\n",
              "    .dataframe tbody tr th:only-of-type {\n",
              "        vertical-align: middle;\n",
              "    }\n",
              "\n",
              "    .dataframe tbody tr th {\n",
              "        vertical-align: top;\n",
              "    }\n",
              "\n",
              "    .dataframe thead th {\n",
              "        text-align: right;\n",
              "    }\n",
              "</style>\n",
              "<table border=\"1\" class=\"dataframe\">\n",
              "  <thead>\n",
              "    <tr style=\"text-align: right;\">\n",
              "      <th></th>\n",
              "      <th>node.js</th>\n",
              "      <th>jquery</th>\n",
              "      <th>html</th>\n",
              "      <th>angular</th>\n",
              "    </tr>\n",
              "  </thead>\n",
              "  <tbody>\n",
              "    <tr>\n",
              "      <th>node.js</th>\n",
              "      <td>1.000000</td>\n",
              "      <td>-0.321485</td>\n",
              "      <td>-0.273523</td>\n",
              "      <td>-0.101787</td>\n",
              "    </tr>\n",
              "    <tr>\n",
              "      <th>jquery</th>\n",
              "      <td>-0.321485</td>\n",
              "      <td>1.000000</td>\n",
              "      <td>-0.253977</td>\n",
              "      <td>-0.366269</td>\n",
              "    </tr>\n",
              "    <tr>\n",
              "      <th>html</th>\n",
              "      <td>-0.273523</td>\n",
              "      <td>-0.253977</td>\n",
              "      <td>1.000000</td>\n",
              "      <td>-0.286706</td>\n",
              "    </tr>\n",
              "    <tr>\n",
              "      <th>angular</th>\n",
              "      <td>-0.101787</td>\n",
              "      <td>-0.366269</td>\n",
              "      <td>-0.286706</td>\n",
              "      <td>1.000000</td>\n",
              "    </tr>\n",
              "  </tbody>\n",
              "</table>\n",
              "</div>"
            ],
            "text/plain": [
              "          node.js    jquery      html   angular\n",
              "node.js  1.000000 -0.321485 -0.273523 -0.101787\n",
              "jquery  -0.321485  1.000000 -0.253977 -0.366269\n",
              "html    -0.273523 -0.253977  1.000000 -0.286706\n",
              "angular -0.101787 -0.366269 -0.286706  1.000000"
            ]
          },
          "metadata": {},
          "execution_count": 38
        }
      ]
    },
    {
      "cell_type": "markdown",
      "metadata": {
        "id": "F7JIWePaxlCM"
      },
      "source": [
        "> **Implementando o Relevância Binária utilizando o skmultilearn**\n"
      ]
    },
    {
      "cell_type": "code",
      "metadata": {
        "colab": {
          "base_uri": "https://localhost:8080/"
        },
        "id": "nfzYRp800QQC",
        "outputId": "7eb339e2-f064-4965-d563-3f929fbb443d"
      },
      "source": [
        "!pip install scikit-multilearn\n",
        "\n",
        "from skmultilearn.problem_transform import BinaryRelevance\n",
        "\n",
        "classificador_br = BinaryRelevance(regressao_logistica)\n",
        "classificador_br.fit(perguntas_treino_tfidf, tags_treino_array)\n",
        "resultado_br = classificador_br.score(perguntas_test_tfidf, tags_test_array)\n",
        "previsao_br = classificador_br.predict(perguntas_test_tfidf)\n",
        "\n",
        "#aplicando hamming loss\n",
        "hamming_loss_br = hamming_loss(tags_test_array, previsao_br)\n",
        "\n",
        "#imprimindo os resultados \n",
        "print(\"Hamming Loss {0: .2f}\".format(hamming_loss_br))\n",
        "print(\"Resultado {0: .2f}%\".format(resultado_br*100))\n"
      ],
      "execution_count": 46,
      "outputs": [
        {
          "output_type": "stream",
          "name": "stdout",
          "text": [
            "Requirement already satisfied: scikit-multilearn in /usr/local/lib/python3.7/dist-packages (0.2.0)\n",
            "Hamming Loss  0.19\n",
            "Resultado  41.68%\n"
          ]
        }
      ]
    },
    {
      "cell_type": "markdown",
      "metadata": {
        "id": "8jjG_9f5xQJP"
      },
      "source": [
        "# ***Algoritmo de classificação: Classificação em Cadeia***"
      ]
    },
    {
      "cell_type": "markdown",
      "metadata": {
        "id": "Z5QCs4lGEYjA"
      },
      "source": [
        "*Esse algoritmo cria um modelo para cada tag. Esse algoritmo cria um modelo que analisa todas as 4 colunas*"
      ]
    },
    {
      "cell_type": "code",
      "metadata": {
        "colab": {
          "base_uri": "https://localhost:8080/"
        },
        "id": "2cRAkvo4tq4v",
        "outputId": "c76315bf-03a9-4f02-dc61-62fbf82ed1a2"
      },
      "source": [
        "from skmultilearn.problem_transform import ClassifierChain\n",
        "from sklearn.metrics import hamming_loss\n",
        "\n",
        "#criando meu classificador multilabel\n",
        "classificador_cadeia = ClassifierChain(regressao_logistica)\n",
        "\n",
        "#treinando meus dados com esse classificador\n",
        "classificador_cadeia.fit(perguntas_treino_tfidf, tags_treino_array)\n",
        "\n",
        "#calculando a acurácia\n",
        "resultado_cadeia = classificador_cadeia.score(perguntas_test_tfidf, tags_test_array)\n",
        "\n",
        "#calculando o hamming loss\n",
        "previsao_cadeia = classificador_cadeia.predict(perguntas_test_tfidf)\n",
        "hamming_loss2 = hamming_loss(tags_test_array, previsao_cadeia)\n",
        "\n",
        "#imprimindo os resultados \n",
        "print(\"Hamming Loss {0: .2f}\".format(hamming_loss2))\n",
        "print(\"Resultado {0: .2f}%\".format(resultado_cadeia*100))"
      ],
      "execution_count": null,
      "outputs": [
        {
          "output_type": "stream",
          "name": "stdout",
          "text": [
            "Requirement already satisfied: scikit-multilearn in /usr/local/lib/python3.7/dist-packages (0.2.0)\n",
            "Hamming Loss  0.21\n",
            "Resultado  49.82%\n"
          ]
        }
      ]
    },
    {
      "cell_type": "markdown",
      "metadata": {
        "id": "s6MCROa3FTys"
      },
      "source": [
        "# **Algoritmo de classificação: Multi-label KNN (MLkNN)**"
      ]
    },
    {
      "cell_type": "markdown",
      "metadata": {
        "id": "t8eGRRhh2Fym"
      },
      "source": [
        "> **Utilizando o classificador MLKNN**\n"
      ]
    },
    {
      "cell_type": "code",
      "metadata": {
        "colab": {
          "base_uri": "https://localhost:8080/"
        },
        "id": "vv23qDXR5Z0B",
        "outputId": "3b2bc322-0431-466e-e4a8-62c1e78a0ea7"
      },
      "source": [
        "from skmultilearn.adapt import MLkNN\n",
        "\n",
        "classificador_mlknn = MLkNN()\n",
        "classificador_mlknn.fit(perguntas_treino_tfidf, tags_treino_array)\n",
        "resultado_mlknn = classificador_mlknn.score(perguntas_test_tfidf, tags_test_array)\n",
        "previsao_mlknn = classificador_mlknn.predict(perguntas_test_tfidf)\n",
        "\n",
        "#aplicando hamming loss\n",
        "hamming_loss_mlknn = hamming_loss(tags_test_array, previsao_mlknn)\n",
        "\n",
        "#imprimindo os resultados \n",
        "print(\"Hamming Loss {0: .2f}\".format(hamming_loss_mlknn))\n",
        "print(\"Resultado {0: .2f}%\".format(resultado_mlknn*100))\n"
      ],
      "execution_count": null,
      "outputs": [
        {
          "output_type": "stream",
          "name": "stdout",
          "text": [
            "Hamming Loss  0.25\n",
            "Resultado  32.53%\n"
          ]
        }
      ]
    }
  ]
}